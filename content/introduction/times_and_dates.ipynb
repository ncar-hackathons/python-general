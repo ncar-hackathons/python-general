{
 "cells": [
  {
   "cell_type": "markdown",
   "metadata": {
    "ein.tags": [
     "worksheet-0"
    ]
   },
   "source": [
    "# Times and Dates\n",
    "Time is an essential component of nearly all geoscience data. Timescales span orders of magnitude from microseconds for lightning, hours for a supercell thunderstorm, days for a global weather model, millenia and beyond for the earth's climate. To properly analyze geoscience data, you must have a firm understanding of how to handle time in Python. In this notebook, we will examine the Python Standard Library for handling dates and times. We will also briefly make use of the [pytz](https://pypi.python.org/pypi/pytz) module to handle some thorny time zone issues in Python.\n",
    "\n",
    "## `Time` Versus `Datetime` Modules and Some Core Concepts\n",
    "\n",
    "Python comes with [time](https://docs.python.org/3/library/time.html) and [datetime](https://docs.python.org/3/library/datetime.html) modules. Unfortunately, Python can be initially disorienting because of the heavily overlapping terminology concerning dates and times:\n",
    "\n",
    "-   `datetime` **module** has a `datetime` **class**\n",
    "-   `datetime` **module** has a `time` **class**\n",
    "-   `datetime` **module** has a `date` **class**\n",
    "-   `time` **module** has a `time` function which returns (almost always) [Unix time](#What-is-Unix-Time?)\n",
    "-   `datetime` **class** has a `date` method which returns a `date` object\n",
    "-   `datetime` **class** has a `time` method which returns a `time` object\n",
    "\n",
    "This confusion can be partially alleviated by aliasing our imported modules:"
   ]
  },
  {
   "cell_type": "code",
   "execution_count": 1,
   "metadata": {
    "autoscroll": "json-false",
    "collapsed": false,
    "ein.tags": [
     "worksheet-0"
    ]
   },
   "outputs": [
    {
     "name": "stdout",
     "output_type": "stream",
     "text": [
      "2016-03-14 15:09:26\n"
     ]
    }
   ],
   "source": [
    "import datetime as dt\n",
    "# we can now reference the datetime module (alaised to 'dt') and datetime\n",
    "# object unambiguously\n",
    "pisecond = dt.datetime(2016, 3, 14, 15, 9, 26)\n",
    "print(pisecond)"
   ]
  },
  {
   "cell_type": "code",
   "execution_count": 2,
   "metadata": {
    "autoscroll": "json-false",
    "collapsed": false,
    "ein.tags": [
     "worksheet-0"
    ]
   },
   "outputs": [
    {
     "name": "stdout",
     "output_type": "stream",
     "text": [
      "1559320921.335239\n"
     ]
    }
   ],
   "source": [
    "import time as tm\n",
    "now = tm.time()\n",
    "print(now)"
   ]
  },
  {
   "cell_type": "markdown",
   "metadata": {
    "ein.tags": [
     "worksheet-0"
    ]
   },
   "source": [
    "### `time` module\n",
    "The `time` module is well-suited for measuring [Unix time](#What-is-Unix-Time?). For example, when you are calculating how long it takes a Python function to run (so-called \"benchmarking\"), you can employ the `time()` function from the `time` module to obtain Unix time before and after the function completes and take the difference of those two times.\n"
   ]
  },
  {
   "cell_type": "code",
   "execution_count": 3,
   "metadata": {
    "autoscroll": "json-false",
    "collapsed": false,
    "ein.tags": [
     "worksheet-0"
    ]
   },
   "outputs": [
    {
     "name": "stdout",
     "output_type": "stream",
     "text": [
      "The benchmark took 1.0002760887145996 seconds\n"
     ]
    }
   ],
   "source": [
    "import time as tm\n",
    "start = tm.time()\n",
    "tm.sleep(1)  # The sleep function will stop the program for n seconds\n",
    "end = tm.time()\n",
    "diff = end - start\n",
    "print(f\"The benchmark took {diff} seconds\")"
   ]
  },
  {
   "cell_type": "markdown",
   "metadata": {
    "ein.tags": [
     "worksheet-0"
    ]
   },
   "source": [
    "(For more accurate benchmarking, see the [timeit](https://docs.python.org/3/library/timeit.html) module.)\n",
    "### `datetime` module\n",
    "\n",
    "The `datetime` module handles time with the Gregorian calendar (the calendar we are all familiar with) and is independent of Unix time. The `datetime` module has an [object-oriented](#The-Thirty-Second-Introduction-to-Object-Oriented-Programming) approach with the `date`, `time`, `datetime`, `timedelta`, and `tzinfo` classes.\n",
    "\n",
    "-   `date` class represents the day, month and year\n",
    "-   `time` class represents the time of day\n",
    "-   `datetime` class is a combination of the `date` and `time` classes\n",
    "-   `timedelta` class represents a time duration\n",
    "-   `tzinfo` (abstract) class represents time zones\n",
    "\n",
    "The `datetime` module is effective for:\n",
    "\n",
    "-   performing date and time arithmetic and calculating time duration\n",
    "-   reading and writing date and time strings in a particular format\n",
    "-   handling time zones (with the help of third-party libraries)\n",
    "\n",
    "The `time` and `datetime` modules overlap in functionality, but in your geoscientific work, you will probably be using the `datetime` module more than the `time` module.\n",
    "\n",
    "### What is Unix Time?\n",
    "\n",
    "Unix time is an example of system time which is the computer's notion of passing time. It is measured in seconds from the the start of the epoch which is January 1, 1970 00:00 [UTC](#What-is-UTC?). It is represented \"under the hood\" as a [floating point number](https://en.wikipedia.org/wiki/Floating_point) which is how computers represent real (ℝ) numbers .\n",
    "\n",
    "### The Thirty Second Introduction to Object-Oriented Programming\n",
    "\n",
    "We have been talking about object-oriented (OO) programming by mentioning terms like \"class\", \"object\", and \"method\", but never really explaining what they mean. A class is a collection of related variables, similar to a [struct](https://en.wikipedia.org/wiki/Struct_&#40;C_programming_language&#41;), in the C programming language or even a tuple in Python) coupled with functions, or \"methods\" in OO parlance, that can act on those variables. An object is a concrete example of a class.\n",
    "\n",
    "For example, if you have a `Coord` class that represents an earth location with latitude, and longitude, you may have a method that returns the distance between two locations, `distancekm()` in this example."
   ]
  },
  {
   "cell_type": "code",
   "execution_count": 4,
   "metadata": {
    "autoscroll": "json-false",
    "collapsed": false,
    "ein.tags": [
     "worksheet-0"
    ]
   },
   "outputs": [],
   "source": [
    "import math\n",
    "class Coord:\n",
    "    \"\"\"Earth location identified by (latitude, longitude) coordinates.\n",
    "    distancekm  -- distance between two points in kilometers\n",
    "    \"\"\"\n",
    "\n",
    "    def __init__(self, latitude=0.0, longitude=0.0):\n",
    "        self.lat = latitude\n",
    "        self.lon = longitude\n",
    "\n",
    "    def distancekm(self, p):\n",
    "        \"\"\"Distance between two points in kilometers.\"\"\"\n",
    "        DEGREES_TO_RADIANS = math.pi / 180.0\n",
    "        EARTH_RADIUS = 6373  # in KMs\n",
    "        phi1 = (90.0 - self.lat) * DEGREES_TO_RADIANS\n",
    "        phi2 = (90.0 - p.lat) * DEGREES_TO_RADIANS\n",
    "        theta1 = self.lon * DEGREES_TO_RADIANS\n",
    "        theta2 = p.lon * DEGREES_TO_RADIANS\n",
    "        cos = (math.sin(phi1) * math.sin(phi2) *\n",
    "               math.cos(theta1 - theta2) + math.cos(phi1) * math.cos(phi2))\n",
    "        arc = math.acos(cos)\n",
    "        return arc * EARTH_RADIUS"
   ]
  },
  {
   "cell_type": "markdown",
   "metadata": {
    "ein.tags": [
     "worksheet-0"
    ]
   },
   "source": [
    "To create a concrete example of a **class**, also known as an **object**, initialize the object with data:"
   ]
  },
  {
   "cell_type": "code",
   "execution_count": 5,
   "metadata": {
    "autoscroll": "json-false",
    "collapsed": false,
    "ein.tags": [
     "worksheet-0"
    ]
   },
   "outputs": [],
   "source": [
    "timbuktu = Coord(16.77, 3.00)"
   ]
  },
  {
   "cell_type": "markdown",
   "metadata": {
    "ein.tags": [
     "worksheet-0"
    ]
   },
   "source": [
    "Here, `timbuktu` is an **object** of the **class** `Coord` initialized with a latitude of `16.77` and a longitude of `3.00`.\n",
    "Next, we create two `Coord` objects: `ny` and `paris`. We will invoke the `distancekm()` method on the `ny` object and pass the `paris` object as an argument to determine the distance between New York and Paris in kilometers.\n"
   ]
  },
  {
   "cell_type": "code",
   "execution_count": 6,
   "metadata": {
    "autoscroll": "json-false",
    "collapsed": false,
    "ein.tags": [
     "worksheet-0"
    ]
   },
   "outputs": [
    {
     "name": "stdout",
     "output_type": "stream",
     "text": [
      "The distance from New York to Paris is 5517.0 kilometers.\n"
     ]
    }
   ],
   "source": [
    "ny = Coord(40.71, 74.01)\n",
    "paris = Coord(48.86, 2.35)\n",
    "distance = ny.distancekm(paris)\n",
    "print(f\"The distance from New York to Paris is {distance:.1f} kilometers.\")"
   ]
  },
  {
   "cell_type": "markdown",
   "metadata": {
    "ein.tags": [
     "worksheet-0"
    ]
   },
   "source": [
    "The old joke about OO programming is that they simply moved the struct that the function takes as an argument and put it first because it is special. So instead of having `distancekm(ny, paris)`, you have `ny.distancekm(paris)`. We have not talked about inheritance or polymorphism but that is OO in a nutshell.\n",
    "## Reading and Writing Dates and Times\n",
    "\n",
    "### Parsing Lightning Data Timestamps with the `datetime.strptime` Method\n",
    "\n",
    "Suppose you want to analyze [US NLDN lightning data](https://ghrc.nsstc.nasa.gov/uso/ds_docs/vaiconus/vaiconus_dataset.html). Here is a sample row of data:\n",
    "\n",
    "    06/27/07 16:18:21.898 18.739 -88.184 0.0 kA 0 1.0 0.4 2.5 8 1.2 13 G\n",
    "\n",
    "Part of the task involves parsing the `06/27/07 16:18:21.898` time string into a `datetime` object. (The full description of the data are [described here](https://ghrc.nsstc.nasa.gov/uso/ds_docs/vaiconus/vaiconus_dataset.html#a6).) In order to parse this string or others that follow the same format, you will employ the [datetime.strptime()](https://docs.python.org/3/library/datetime.html#datetime.datetime.strptime) method from the `datetime` module. This method takes two arguments: the first is the date time string you wish to parse, the second is the format which describes exactly how the date and time are arranged. [The full range of format options is described in the Python documentation](https://docs.python.org/3/library/datetime.html#strftime-and-strptime-behavior). In reality, the format will take some degree of experimentation to get right. This is a situation where Python shines as you can quickly try out different solutions in the IPython interpreter. Beyond the official documentation, Google and [Stack Overflow](https://stackoverflow.com/) are your friends in this process. Eventually, after some trial and error, you will find the <code>'%m/%d/%y %H:%M:%S.%f'</code> format will properly parse the date and time."
   ]
  },
  {
   "cell_type": "code",
   "execution_count": 7,
   "metadata": {
    "autoscroll": "json-false",
    "collapsed": false,
    "ein.tags": [
     "worksheet-0"
    ]
   },
   "outputs": [
    {
     "name": "stdout",
     "output_type": "stream",
     "text": [
      "2007-06-27 16:18:21.898000\n"
     ]
    }
   ],
   "source": [
    "import datetime as dt\n",
    "strike_time = dt.datetime.strptime('06/27/07 16:18:21.898',\n",
    "                                   '%m/%d/%y %H:%M:%S.%f')\n",
    "# print strike_time to see if we have properly parsed our time\n",
    "print(strike_time)"
   ]
  },
  {
   "cell_type": "markdown",
   "metadata": {},
   "source": [
    "## Going Further\n",
    "\n",
    "- [Python Datetime Library Documentation](https://docs.python.org/3/library/datetime.html)"
   ]
  }
 ],
 "metadata": {
  "kernelspec": {
   "display_name": "Python 3",
   "language": "python",
   "name": "python3"
  },
  "language_info": {
   "codemirror_mode": {
    "name": "ipython",
    "version": 3
   },
   "file_extension": ".py",
   "mimetype": "text/x-python",
   "name": "python",
   "nbconvert_exporter": "python",
   "pygments_lexer": "ipython3",
   "version": "3.6.7"
  },
  "name": "Times and Dates.ipynb",
  "widgets": {
   "state": {},
   "version": "1.1.1"
  }
 },
 "nbformat": 4,
 "nbformat_minor": 2
}
