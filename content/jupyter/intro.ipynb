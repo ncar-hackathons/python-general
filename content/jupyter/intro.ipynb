{
 "cells": [
  {
   "cell_type": "markdown",
   "metadata": {},
   "source": [
    "![](../images/logo/jupyter.png)\n",
    "\n",
    "# Welcome to Jupyter Notebooks!\n",
    "\n",
    "If you want to learn how to use Jupyter notebooks you've come to the right place. This tutorial will teach you all you need to know to use Jupyter Notebooks effectively. \n",
    "\n"
   ]
  }
 ],
 "metadata": {
  "kernelspec": {
   "display_name": "Python 3",
   "language": "python",
   "name": "python3"
  },
  "language_info": {
   "codemirror_mode": {
    "name": "ipython",
    "version": 3
   },
   "file_extension": ".py",
   "mimetype": "text/x-python",
   "name": "python",
   "nbconvert_exporter": "python",
   "pygments_lexer": "ipython3",
   "version": "3.6.7"
  }
 },
 "nbformat": 4,
 "nbformat_minor": 2
}
