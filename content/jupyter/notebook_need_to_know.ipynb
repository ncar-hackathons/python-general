{
 "cells": [
  {
   "cell_type": "markdown",
   "metadata": {},
   "source": [
    "# Jupyter Notebook - Need to Know\n",
    "\n",
    "\n",
    "\n",
    "## Creating a Notebook\n",
    "\n",
    "\n",
    "- To create a new notebook: `File ➤ New ➤ Notebook`\n",
    "\n",
    "![new-notebook](../images/jlab/new_notebook.png)\n",
    "\n",
    "\n",
    "## Choosing a notebook kernel \n",
    "\n",
    "\n",
    "- Once the new notebook is created, you will be prompted to choose a **kernel**. A notebook kernel is a **computational engine** that executes the code contained in a notebook. \n",
    "\n",
    "![kernel-selection](../images/jlab/kernel_selection.png)\n",
    "\n",
    "- To select a computation engine (kernel), click on the drop down symbol\n",
    "\n",
    "![kernel-selection-2](../images/jlab/kernel.png)\n",
    "\n",
    "- To change the notebook kernel: `Kernel ➤ Change Kernel`\n",
    "\n",
    "![change-kernel](../images/jlab/change_kernel.png)\n",
    "\n",
    "## Fundamentals\n",
    "\n",
    "\n",
    "Now that you know how to create a jupyter notebook, let's build up from the basics, what is a Jupyter Notebook? \n",
    "\n",
    "\n",
    "The Jupyter Notebook is an incredibly powerful tool for interactively developing and presenting data analysis projects. A notebook integrates code and its output into a single document that combines visualisations, narrative text, mathematical equations, and other rich media. The intuitive workflow promotes iterative and rapid development, making notebooks an increasingly popular choice at the heart of contemporary data science, analysis, and increasingly science at large.\n",
    "\n",
    "You can write like I am writing now (markdown cells) or you can perform calculations in Python, C++, R (code cells) and run them like this:"
   ]
  },
  {
   "cell_type": "code",
   "execution_count": 1,
   "metadata": {},
   "outputs": [
    {
     "data": {
      "text/plain": [
       "12"
      ]
     },
     "execution_count": 1,
     "metadata": {},
     "output_type": "execute_result"
    }
   ],
   "source": [
    "10 + 2"
   ]
  },
  {
   "cell_type": "markdown",
   "metadata": {},
   "source": [
    "### Writing\n",
    "\n",
    "A type of cell in which you can write like this is called `Markdown`. `Markdown` is a very popular markup language. To specify that a cell is Markdown you need to click in the drop-down menu in the toolbar and select Markdown.\n",
    "\n",
    "Click on the the '+' button on the left and select Markdown from the toolbar.\n",
    "\n",
    "Now you can type your first Markdown cell. Write `NCAR Command Language` and press `play` button."
   ]
  },
  {
   "cell_type": "markdown",
   "metadata": {},
   "source": [
    "![new-cell](../images/jlab/new-cell.png)"
   ]
  },
  {
   "cell_type": "markdown",
   "metadata": {},
   "source": [
    "You should see something like this:"
   ]
  },
  {
   "cell_type": "markdown",
   "metadata": {},
   "source": [
    "NCAR Command Language"
   ]
  },
  {
   "cell_type": "markdown",
   "metadata": {},
   "source": [
    "Now try making your first _Code_ cell: follow the same steps as before but don't change the cell type (when you add a cell its default type is _Code_). Type something like `10.5/2`. You should see '5.25' as output."
   ]
  },
  {
   "cell_type": "code",
   "execution_count": 2,
   "metadata": {},
   "outputs": [
    {
     "data": {
      "text/plain": [
       "5.25"
      ]
     },
     "execution_count": 2,
     "metadata": {},
     "output_type": "execute_result"
    }
   ],
   "source": [
    "10.5/2"
   ]
  },
  {
   "cell_type": "markdown",
   "metadata": {},
   "source": [
    "### Modes \n",
    "\n",
    "If you made a mistake in your *Markdown* cell and you have already ran it, you will notice that you cannot edit it just by clicking on it. This is because you are in **Command Mode**. Jupyter Notebooks have two distinct modes:\n",
    "\n",
    "1. **Edit Mode**: Allows you to edit a cell's content.\n",
    "\n",
    "2. **Command Mode**: Allows you to edit the notebook as a whole and use keyboard shortcuts but not edit a cell's content. \n",
    "\n",
    "You can toggle between these two by either pressing <kbd>ESC</kbd> and <kbd>Enter</kbd> or clicking outside a cell or inside it (you need to double click if its a Markdown cell). You can always know which mode you're on since the current cell has a green border if in **Edit Mode** and a blue border in **Command Mode**. Try it!"
   ]
  },
  {
   "cell_type": "markdown",
   "metadata": {},
   "source": [
    "### Other Important Considerations"
   ]
  },
  {
   "cell_type": "markdown",
   "metadata": {},
   "source": [
    "-  Your notebook is autosaved every 120 seconds. If you want to manually save it you can just press the save button on the upper left corner or press <kbd>s</kbd> in **Command Mode**."
   ]
  },
  {
   "cell_type": "markdown",
   "metadata": {},
   "source": [
    "![](../images/jlab/save.png)"
   ]
  },
  {
   "cell_type": "markdown",
   "metadata": {},
   "source": [
    "- To know if your kernel is computing or not you can check the dot in your upper right corner. If the dot is full, it means that the kernel is working. If not, it is idle. You can place the mouse on it and see the state of the kernel be displayed."
   ]
  },
  {
   "cell_type": "markdown",
   "metadata": {},
   "source": [
    "![](../images/jlab/idle.png)"
   ]
  },
  {
   "cell_type": "markdown",
   "metadata": {},
   "source": [
    "- There are a couple of shortcuts you must know about which we use **all** the time (always in **Command Mode**). These are:\n",
    "\n",
    "<kbd>Shift</kbd>+<kbd>Enter</kbd>: Runs the code or markdown on a cell\n",
    "\n",
    "<kbd>Up Arrow</kbd>+<kbd>Down Arrow</kbd>: Toggle across cells\n",
    "\n",
    "<kbd>b</kbd>: Create new cell\n",
    "\n",
    "<kbd>0</kbd>+<kbd>0</kbd>: Reset Kernel\n",
    "\n",
    "You can find more shortcuts in the Shortcuts section below."
   ]
  },
  {
   "cell_type": "markdown",
   "metadata": {},
   "source": [
    "- You may need to use a terminal in a Jupyter Notebook environment (for example to check status of running job). That is very easy to do, just press:\n",
    "\n",
    "`File ➤ New ➤ Terminal`\n",
    "\n",
    "![terminal](../images/jlab/terminal.png)"
   ]
  },
  {
   "cell_type": "markdown",
   "metadata": {},
   "source": [
    "**That's it. This is all you need to know to use Jupyter Notebooks. That said, we have more tips and tricks in next sections of this tutorial**"
   ]
  }
 ],
 "metadata": {
  "kernelspec": {
   "display_name": "Python 3",
   "language": "python",
   "name": "python3"
  },
  "language_info": {
   "codemirror_mode": {
    "name": "ipython",
    "version": 3
   },
   "file_extension": ".py",
   "mimetype": "text/x-python",
   "name": "python",
   "nbconvert_exporter": "python",
   "pygments_lexer": "ipython3",
   "version": "3.6.7"
  }
 },
 "nbformat": 4,
 "nbformat_minor": 2
}
