{
 "cells": [
  {
   "cell_type": "markdown",
   "metadata": {},
   "source": [
    "# JupyterHub \n",
    "## What Is JupyterHub?\n",
    "\n",
    "Here is an amazing slide deck about Jupyterhub: [JupyterHub Thing Explainer](https://www.slideshare.net/willingc/jupyterhub-a-thing-explainer-overview)\n",
    "\n",
    "\n",
    "But here is a summary in one slide:\n",
    "\n",
    "![](../images/jlab/jupyterhub_thing_explain.jpg)\n",
    "\n",
    "> JupyterHub gives users access to computational environments and resources without burdening the users with installation and maintenance tasks. \n"
   ]
  },
  {
   "cell_type": "markdown",
   "metadata": {},
   "source": [
    "---\n",
    "\n",
    "**NOTE:**\n",
    "\n",
    "Jupyter notebooks will be explained in later sections.\n",
    "\n",
    "---"
   ]
  },
  {
   "cell_type": "markdown",
   "metadata": {},
   "source": [
    "## JupyterHub Access\n",
    "\n",
    "- The JupyterHub running on NCAR's Cheyenne supercomputer is accessible at: https://jupyterhub.ucar.edu. To get access to this JupyterHub, head over to https://jupyterhub.ucar.edu and follow the instructions below:"
   ]
  },
  {
   "cell_type": "markdown",
   "metadata": {},
   "source": [
    "### Login\n",
    "\n",
    "![](../images/jlab/login.png)"
   ]
  },
  {
   "cell_type": "markdown",
   "metadata": {},
   "source": [
    "### Launch a Job\n",
    "![](../images/jlab/job.png)"
   ]
  },
  {
   "cell_type": "markdown",
   "metadata": {},
   "source": [
    "- Once you hit the `Spawn` button, you will see this screen:\n",
    "    \n",
    "![](../images/jlab/spawner.png)\n",
    "\n",
    "- When your jupyter notebook server is up and running you will be redirected to a new page similar to:\n",
    "\n",
    "![](../images/jlab/launcher.png)"
   ]
  }
 ],
 "metadata": {
  "kernelspec": {
   "display_name": "Python 3",
   "language": "python",
   "name": "python3"
  },
  "language_info": {
   "codemirror_mode": {
    "name": "ipython",
    "version": 3
   },
   "file_extension": ".py",
   "mimetype": "text/x-python",
   "name": "python",
   "nbconvert_exporter": "python",
   "pygments_lexer": "ipython3",
   "version": "3.6.7"
  }
 },
 "nbformat": 4,
 "nbformat_minor": 2
}
